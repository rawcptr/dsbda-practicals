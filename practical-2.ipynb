{
 "cells": [
  {
   "cell_type": "code",
   "execution_count": null,
   "id": "1ea88911",
   "metadata": {},
   "outputs": [],
   "source": [
    "import pandas as pd\n",
    "from sklearn.preprocessing import MinMaxScaler, StandardScaler"
   ]
  },
  {
   "cell_type": "code",
   "execution_count": null,
   "id": "a7e8cbd6",
   "metadata": {},
   "outputs": [],
   "source": [
    "df = pd.read_csv(\"student-data.csv\")\n",
    "df"
   ]
  },
  {
   "cell_type": "code",
   "execution_count": null,
   "id": "70a163ea",
   "metadata": {},
   "outputs": [],
   "source": [
    "df.shape"
   ]
  },
  {
   "cell_type": "code",
   "execution_count": null,
   "id": "655ffdae",
   "metadata": {},
   "outputs": [],
   "source": [
    "df.head()"
   ]
  },
  {
   "cell_type": "code",
   "execution_count": null,
   "id": "fb032bd8",
   "metadata": {},
   "outputs": [],
   "source": [
    "df.tail()"
   ]
  },
  {
   "cell_type": "code",
   "execution_count": null,
   "id": "9a53c086",
   "metadata": {},
   "outputs": [],
   "source": [
    "df.count()"
   ]
  },
  {
   "cell_type": "code",
   "execution_count": null,
   "id": "6fbb7ac0",
   "metadata": {},
   "outputs": [],
   "source": [
    "df.info()"
   ]
  },
  {
   "cell_type": "code",
   "execution_count": null,
   "id": "dd83383b",
   "metadata": {},
   "outputs": [],
   "source": [
    "df.isnull()"
   ]
  },
  {
   "cell_type": "code",
   "execution_count": null,
   "id": "a090bcab",
   "metadata": {},
   "outputs": [],
   "source": [
    "df.isnull().sum()"
   ]
  },
  {
   "cell_type": "code",
   "execution_count": null,
   "id": "b454c8aa",
   "metadata": {},
   "outputs": [],
   "source": [
    "df.dropna()"
   ]
  },
  {
   "cell_type": "code",
   "execution_count": null,
   "id": "e20951c7",
   "metadata": {},
   "outputs": [],
   "source": [
    "df.fillna(0)"
   ]
  },
  {
   "cell_type": "code",
   "execution_count": null,
   "id": "e5d4c850",
   "metadata": {},
   "outputs": [],
   "source": [
    "df[\"Class\"].fillna(\"TE\")"
   ]
  },
  {
   "cell_type": "code",
   "execution_count": null,
   "id": "dce9c207",
   "metadata": {},
   "outputs": [],
   "source": [
    "df[\"Marks\"].fillna(df[\"Marks\"].mean())"
   ]
  },
  {
   "cell_type": "code",
   "execution_count": null,
   "id": "39752130",
   "metadata": {},
   "outputs": [],
   "source": [
    "df[\"Age\"].fillna(df[\"Age\"].median())"
   ]
  },
  {
   "cell_type": "code",
   "execution_count": null,
   "id": "ddabe6ef",
   "metadata": {},
   "outputs": [],
   "source": [
    "df[\"Class\"].value_counts()"
   ]
  },
  {
   "cell_type": "code",
   "execution_count": null,
   "id": "db8d1606",
   "metadata": {},
   "outputs": [],
   "source": [
    "df[\"Class\"].fillna(df[\"Class\"].mode()[0])"
   ]
  },
  {
   "cell_type": "code",
   "execution_count": null,
   "id": "74fc9715",
   "metadata": {},
   "outputs": [],
   "source": [
    "df.fillna(method=\"backfill\")"
   ]
  },
  {
   "cell_type": "code",
   "execution_count": null,
   "id": "893aad94",
   "metadata": {},
   "outputs": [],
   "source": [
    "df.fillna(method=\"pad\")"
   ]
  },
  {
   "cell_type": "code",
   "execution_count": null,
   "id": "568a78cf",
   "metadata": {},
   "outputs": [],
   "source": [
    "df.describe()"
   ]
  },
  {
   "cell_type": "code",
   "execution_count": null,
   "id": "7a9fe7c9",
   "metadata": {},
   "outputs": [],
   "source": [
    "df.plot.box()"
   ]
  },
  {
   "cell_type": "code",
   "execution_count": null,
   "id": "748d536d",
   "metadata": {},
   "outputs": [],
   "source": [
    "df.loc[6, \"Marks\"]"
   ]
  },
  {
   "cell_type": "code",
   "execution_count": null,
   "id": "85423515",
   "metadata": {},
   "outputs": [],
   "source": [
    "df.loc[6, \"Marks\"] = 98.45"
   ]
  },
  {
   "cell_type": "code",
   "execution_count": null,
   "id": "048be2b9",
   "metadata": {},
   "outputs": [],
   "source": [
    "df.loc[6, \"Marks\"]"
   ]
  },
  {
   "cell_type": "code",
   "execution_count": null,
   "id": "8f24ea4a",
   "metadata": {},
   "outputs": [],
   "source": [
    "df.plot.hist()"
   ]
  },
  {
   "cell_type": "code",
   "execution_count": null,
   "id": "679414c7",
   "metadata": {},
   "outputs": [],
   "source": [
    "df[\"Age\"].plot.hist()"
   ]
  },
  {
   "cell_type": "code",
   "execution_count": null,
   "id": "f19e36f4",
   "metadata": {},
   "outputs": [],
   "source": [
    "x = df[[\"Age\", \"Marks\"]]\n",
    "x.describe()"
   ]
  },
  {
   "cell_type": "code",
   "execution_count": null,
   "id": "29f41403",
   "metadata": {},
   "outputs": [],
   "source": [
    "scaler = MinMaxScaler()\n",
    "x_scaled = scaler.fit_transform(x)\n",
    "pd.DataFrame(x_scaled).describe()"
   ]
  },
  {
   "cell_type": "code",
   "execution_count": null,
   "id": "7a8ddc6b",
   "metadata": {},
   "outputs": [],
   "source": [
    "scaler = StandardScaler()\n",
    "x_scaled = scaler.fit_transform(x)\n",
    "pd.DataFrame(x_scaled).describe()"
   ]
  }
 ],
 "metadata": {
  "kernelspec": {
   "display_name": ".venv",
   "language": "python",
   "name": "python3"
  },
  "language_info": {
   "codemirror_mode": {
    "name": "ipython",
    "version": 3
   },
   "file_extension": ".py",
   "mimetype": "text/x-python",
   "name": "python",
   "nbconvert_exporter": "python",
   "pygments_lexer": "ipython3",
   "version": "3.13.3"
  }
 },
 "nbformat": 4,
 "nbformat_minor": 5
}
