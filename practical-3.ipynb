{
 "cells": [
  {
   "cell_type": "code",
   "execution_count": null,
   "id": "ade13e63",
   "metadata": {},
   "outputs": [],
   "source": [
    "import pandas as pd\n",
    "import numpy as np\n",
    "import seaborn as sns"
   ]
  },
  {
   "cell_type": "code",
   "execution_count": null,
   "id": "2ee17177",
   "metadata": {},
   "outputs": [],
   "source": [
    "df = pd.read_csv(\"student-data.csv\")\n",
    "df"
   ]
  },
  {
   "cell_type": "code",
   "execution_count": null,
   "id": "b6554267",
   "metadata": {},
   "outputs": [],
   "source": [
    "marks_age = df[[\"Marks\", \"Age\"]]"
   ]
  },
  {
   "cell_type": "code",
   "execution_count": null,
   "id": "138d0b85",
   "metadata": {},
   "outputs": [],
   "source": [
    "marks_age.mean()"
   ]
  },
  {
   "cell_type": "code",
   "execution_count": null,
   "id": "f59a1471",
   "metadata": {},
   "outputs": [],
   "source": [
    "marks_age.median()"
   ]
  },
  {
   "cell_type": "code",
   "execution_count": null,
   "id": "7d367a35",
   "metadata": {},
   "outputs": [],
   "source": [
    "marks_age.std()"
   ]
  },
  {
   "cell_type": "code",
   "execution_count": null,
   "id": "fb30ea20",
   "metadata": {},
   "outputs": [],
   "source": [
    "df.min(), df.loc[df[\"Marks\"].idxmin()]"
   ]
  },
  {
   "cell_type": "code",
   "execution_count": null,
   "id": "00c9e7b4",
   "metadata": {},
   "outputs": [],
   "source": [
    "df.max(), df.loc[df[\"Marks\"].idxmax()]"
   ]
  },
  {
   "cell_type": "code",
   "execution_count": null,
   "id": "f242b7ed",
   "metadata": {},
   "outputs": [],
   "source": [
    "np.std(df[\"Marks\"])"
   ]
  },
  {
   "cell_type": "code",
   "execution_count": null,
   "id": "8147b9bf",
   "metadata": {},
   "outputs": [],
   "source": [
    "gr1 = df.groupby(\"Class\")"
   ]
  },
  {
   "cell_type": "code",
   "execution_count": null,
   "id": "8baaf0d4",
   "metadata": {},
   "outputs": [],
   "source": [
    "te = gr1.get_group(\"TE\")"
   ]
  },
  {
   "cell_type": "code",
   "execution_count": null,
   "id": "8b1acc31",
   "metadata": {},
   "outputs": [],
   "source": [
    "te.min(), te.loc[te[\"Marks\"].idxmin()]"
   ]
  },
  {
   "cell_type": "code",
   "execution_count": null,
   "id": "c77dd5d5",
   "metadata": {},
   "outputs": [],
   "source": [
    "te.max(), te.loc[te[\"Marks\"].idxmax()]"
   ]
  },
  {
   "cell_type": "code",
   "execution_count": null,
   "id": "d4dbc78f",
   "metadata": {},
   "outputs": [],
   "source": [
    "gr2 = df.groupby(\"Age\")"
   ]
  },
  {
   "cell_type": "code",
   "execution_count": null,
   "id": "dd87bd91",
   "metadata": {},
   "outputs": [],
   "source": [
    "gr2.groups"
   ]
  },
  {
   "cell_type": "code",
   "execution_count": null,
   "id": "d9a6b814",
   "metadata": {},
   "outputs": [],
   "source": [
    "tw = gr2.get_group(20)\n",
    "tw"
   ]
  },
  {
   "cell_type": "code",
   "execution_count": null,
   "id": "d10b2f74",
   "metadata": {},
   "outputs": [],
   "source": [
    "df = sns.load_dataset(\"iris\")\n",
    "df"
   ]
  },
  {
   "cell_type": "code",
   "execution_count": null,
   "id": "bb8f09ad",
   "metadata": {},
   "outputs": [],
   "source": [
    "df.describe()"
   ]
  },
  {
   "cell_type": "code",
   "execution_count": null,
   "id": "af55b2ce",
   "metadata": {},
   "outputs": [],
   "source": [
    "gr = df.groupby(\"species\")\n",
    "se = gr.get_group(\"setosa\")\n",
    "ve = gr.get_group(\"versicolor\")\n",
    "vi = gr.get_group(\"virginica\")"
   ]
  },
  {
   "cell_type": "code",
   "execution_count": null,
   "id": "544f0d91",
   "metadata": {},
   "outputs": [],
   "source": [
    "se.shape, ve.shape, vi.shape"
   ]
  },
  {
   "cell_type": "code",
   "execution_count": null,
   "id": "312b8c88",
   "metadata": {},
   "outputs": [],
   "source": [
    "se.describe()"
   ]
  },
  {
   "cell_type": "code",
   "execution_count": null,
   "id": "1a0886d1",
   "metadata": {},
   "outputs": [],
   "source": [
    "ve.describe()"
   ]
  },
  {
   "cell_type": "code",
   "execution_count": null,
   "id": "2a71248c",
   "metadata": {},
   "outputs": [],
   "source": [
    "vi.describe()"
   ]
  },
  {
   "cell_type": "code",
   "execution_count": null,
   "id": "a17e4b70",
   "metadata": {},
   "outputs": [],
   "source": []
  }
 ],
 "metadata": {
  "kernelspec": {
   "display_name": ".venv",
   "language": "python",
   "name": "python3"
  },
  "language_info": {
   "codemirror_mode": {
    "name": "ipython",
    "version": 3
   },
   "file_extension": ".py",
   "mimetype": "text/x-python",
   "name": "python",
   "nbconvert_exporter": "python",
   "pygments_lexer": "ipython3",
   "version": "3.13.3"
  }
 },
 "nbformat": 4,
 "nbformat_minor": 5
}
