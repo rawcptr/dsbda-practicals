{
 "cells": [
  {
   "cell_type": "code",
   "execution_count": null,
   "id": "d703542b",
   "metadata": {},
   "outputs": [],
   "source": [
    "import seaborn as sns"
   ]
  },
  {
   "cell_type": "code",
   "execution_count": null,
   "id": "b27eadd9",
   "metadata": {},
   "outputs": [],
   "source": [
    "df = sns.load_dataset(\"titanic\")"
   ]
  },
  {
   "cell_type": "code",
   "execution_count": null,
   "id": "44fd2495",
   "metadata": {},
   "outputs": [],
   "source": [
    "df"
   ]
  },
  {
   "cell_type": "code",
   "execution_count": null,
   "id": "6a566b2c",
   "metadata": {},
   "outputs": [],
   "source": [
    "df = df[[\"survived\", \"class\", \"sex\", \"age\", \"fare\"]]"
   ]
  },
  {
   "cell_type": "code",
   "execution_count": null,
   "id": "da00298d",
   "metadata": {},
   "outputs": [],
   "source": [
    "df"
   ]
  },
  {
   "cell_type": "code",
   "execution_count": null,
   "id": "38804070",
   "metadata": {},
   "outputs": [],
   "source": [
    "sns.jointplot(x=\"age\", y=\"fare\", data=df)"
   ]
  },
  {
   "cell_type": "code",
   "execution_count": null,
   "id": "5335ba08",
   "metadata": {},
   "outputs": [],
   "source": [
    "sns.jointplot(x=\"age\", y=\"fare\", data=df, hue=\"survived\")"
   ]
  },
  {
   "cell_type": "code",
   "execution_count": null,
   "id": "e8bd19b9",
   "metadata": {},
   "outputs": [],
   "source": [
    "sns.jointplot(x=\"age\", y=\"fare\", data=df, hue=\"class\")"
   ]
  },
  {
   "cell_type": "code",
   "execution_count": null,
   "id": "b14d6b29",
   "metadata": {},
   "outputs": [],
   "source": [
    "sns.pairplot(df, hue=\"sex\")"
   ]
  },
  {
   "cell_type": "code",
   "execution_count": null,
   "id": "f2d81832",
   "metadata": {},
   "outputs": [],
   "source": [
    "sns.countplot(x=df[\"sex\"])"
   ]
  },
  {
   "cell_type": "code",
   "execution_count": null,
   "id": "22834e1f",
   "metadata": {},
   "outputs": [],
   "source": [
    "sns.countplot(x=df[\"class\"])"
   ]
  },
  {
   "cell_type": "code",
   "execution_count": null,
   "id": "87a3d95d",
   "metadata": {},
   "outputs": [],
   "source": [
    "sns.barplot(x=\"sex\", y=\"survived\", data=df)"
   ]
  },
  {
   "cell_type": "code",
   "execution_count": null,
   "id": "13192a4d",
   "metadata": {},
   "outputs": [],
   "source": [
    "sns.barplot(x=\"sex\", y=\"survived\", hue=\"class\", data=df)"
   ]
  },
  {
   "cell_type": "code",
   "execution_count": null,
   "id": "6e5bdf19",
   "metadata": {},
   "outputs": [],
   "source": [
    "sns.histplot(df[\"fare\"])"
   ]
  },
  {
   "cell_type": "code",
   "execution_count": null,
   "id": "08a9d608",
   "metadata": {},
   "outputs": [],
   "source": [
    "sns.kdeplot(df[\"fare\"])"
   ]
  },
  {
   "cell_type": "code",
   "execution_count": null,
   "id": "9ed95d6d",
   "metadata": {},
   "outputs": [],
   "source": []
  }
 ],
 "metadata": {
  "kernelspec": {
   "display_name": ".venv",
   "language": "python",
   "name": "python3"
  },
  "language_info": {
   "codemirror_mode": {
    "name": "ipython",
    "version": 3
   },
   "file_extension": ".py",
   "mimetype": "text/x-python",
   "name": "python",
   "nbconvert_exporter": "python",
   "pygments_lexer": "ipython3",
   "version": "3.13.3"
  }
 },
 "nbformat": 4,
 "nbformat_minor": 5
}
